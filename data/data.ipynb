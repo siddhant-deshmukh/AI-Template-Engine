{
 "cells": [
  {
   "cell_type": "code",
   "execution_count": 1,
   "id": "3d9c2624",
   "metadata": {},
   "outputs": [],
   "source": [
    "import requests\n",
    "import json\n",
    "import os"
   ]
  },
  {
   "cell_type": "code",
   "execution_count": 7,
   "id": "71206c8f",
   "metadata": {},
   "outputs": [],
   "source": [
    "def extract_json_from_local_file(file_path, output_file=\"combined_templates.json\"):\n",
    "    \"\"\"\n",
    "    Reads a local JSON file, fetches JSON from URLs listed in its 'items' array,\n",
    "    and saves all fetched JSON objects into a single new file as an array.\n",
    "\n",
    "    Args:\n",
    "        file_path (str): The path to the local JSON file.\n",
    "        output_file (str): The name of the output file to save all combined JSON.\n",
    "    \"\"\"\n",
    "    try:\n",
    "        # Step 1: Read the local JSON file\n",
    "        with open(file_path, 'r', encoding='utf-8') as f:\n",
    "            data = json.load(f)\n",
    "\n",
    "        # Step 2: Initialize a list to hold all the downloaded templates\n",
    "        all_templates = []\n",
    "        \n",
    "        # Step 3: Iterate through the 'items' and download each template\n",
    "        if \"items\" in data and isinstance(data[\"items\"], list):\n",
    "            for i, item in enumerate(data[\"items\"]):\n",
    "                if \"json\" in item and isinstance(item[\"json\"], str):\n",
    "                    template_url = item[\"json\"]\n",
    "                    \n",
    "                    try:\n",
    "                        # Fetch the template JSON\n",
    "                        template_response = requests.get(template_url)\n",
    "                        template_response.raise_for_status()\n",
    "                        template_data = template_response.json()\n",
    "                        \n",
    "                        # Add the downloaded JSON object to our list\n",
    "                        all_templates.append(template_data)\n",
    "                        print(f\"Successfully fetched template from {template_url}\")\n",
    "\n",
    "                    except requests.exceptions.RequestException as e:\n",
    "                        print(f\"Error fetching template from {template_url}: {e}\")\n",
    "                    except json.JSONDecodeError:\n",
    "                        print(f\"Error decoding JSON from {template_url}.\")\n",
    "\n",
    "        else:\n",
    "            print(\"The 'items' key was not found or is not a list in the main JSON.\")\n",
    "            return\n",
    "\n",
    "        # Step 4: Write the collected list of templates to a single JSON file\n",
    "        with open(output_file, \"w\", encoding=\"utf-8\") as out_f:\n",
    "            json.dump(all_templates, out_f, indent=2)\n",
    "        \n",
    "        print(f\"\\nAll templates have been combined and saved to '{output_file}'.\")\n",
    "            \n",
    "    except FileNotFoundError:\n",
    "        print(f\"Error: The file '{file_path}' was not found.\")\n",
    "    except json.JSONDecodeError:\n",
    "        print(f\"Error: The file '{file_path}' is not a valid JSON file.\")\n",
    "    except Exception as e:\n",
    "        print(f\"An unexpected error occurred: {e}\")"
   ]
  },
  {
   "cell_type": "code",
   "execution_count": 8,
   "id": "a0f18327",
   "metadata": {},
   "outputs": [
    {
     "name": "stdout",
     "output_type": "stream",
     "text": [
      "Successfully fetched template from https://api.polotno.com/templates/2021-06-11-facebook-cover-real-estate-realtor-house-interior.json\n",
      "Successfully fetched template from https://api.polotno.com/templates/2021-06-26-Facebook-post-real-estate--just-sold--just-listed--property--realtor--agent.json\n",
      "Successfully fetched template from https://api.polotno.com/templates/2021-07-11-facebook-ad-real-estate.json\n",
      "Successfully fetched template from https://api.polotno.com/templates/2021-07-03-instagram-post-realestate-soldout.json\n",
      "Successfully fetched template from https://api.polotno.com/templates/2021-06-07-instagram-story-real-estate.json\n",
      "Successfully fetched template from https://api.polotno.com/templates/2021-07-11-facebook-ad-realestate-house.json\n",
      "Successfully fetched template from https://api.polotno.com/templates/2021-08-01-facebook-post-real-estate.json\n",
      "Successfully fetched template from https://api.polotno.com/templates/2021-08-01-instagram-post-teal-realestate.json\n",
      "Successfully fetched template from https://api.polotno.com/templates/2021-06-30-youtube-thumbnail-realestate-agent.json\n",
      "Successfully fetched template from https://api.polotno.com/templates/2021-07-05-youtube-thumbnail-real-estate.json\n",
      "Successfully fetched template from https://api.polotno.com/templates/2021-06-21-facebook-property-realtor-real-estate-house-listed-sold.json\n",
      "Successfully fetched template from https://api.polotno.com/templates/2021-06-30-facebook-post-real-estate.json\n",
      "Successfully fetched template from https://api.polotno.com/templates/2021-06-30-youtube-thumbnail-real-estate-.json\n",
      "Successfully fetched template from https://api.polotno.com/templates/2021-05-31-facebook-cover-real-estate-sale.json\n",
      "Successfully fetched template from https://api.polotno.com/templates/2021-06-20-Linkedin-post-realtor-real-estate-house-housing-sold.json\n",
      "Successfully fetched template from https://api.polotno.com/templates/2021-10-16-hd-celebrate-holidays.json\n",
      "Successfully fetched template from https://api.polotno.com/templates/2021-07-010-Instagram-post-real-estate--house-home-rent-realtor.json\n",
      "\n",
      "All templates have been combined and saved to 'combined_templates.json'.\n"
     ]
    }
   ],
   "source": [
    "local_json_file = \"./real-estate-template.json\"\n",
    "extract_json_from_local_file(local_json_file)"
   ]
  },
  {
   "cell_type": "code",
   "execution_count": null,
   "id": "7c291715",
   "metadata": {},
   "outputs": [],
   "source": []
  }
 ],
 "metadata": {
  "kernelspec": {
   "display_name": "env13",
   "language": "python",
   "name": "python3"
  },
  "language_info": {
   "codemirror_mode": {
    "name": "ipython",
    "version": 3
   },
   "file_extension": ".py",
   "mimetype": "text/x-python",
   "name": "python",
   "nbconvert_exporter": "python",
   "pygments_lexer": "ipython3",
   "version": "3.13.5"
  }
 },
 "nbformat": 4,
 "nbformat_minor": 5
}
