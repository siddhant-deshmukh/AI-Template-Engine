{
 "cells": [
  {
   "cell_type": "code",
   "execution_count": 1,
   "id": "3d9c2624",
   "metadata": {},
   "outputs": [],
   "source": [
    "import requests\n",
    "import json\n",
    "import os"
   ]
  },
  {
   "cell_type": "code",
   "execution_count": 7,
   "id": "71206c8f",
   "metadata": {},
   "outputs": [],
   "source": [
    "def extract_json_from_local_file(file_path, output_file=\"combined_templates.json\"):\n",
    "    \"\"\"\n",
    "    Reads a local JSON file, fetches JSON from URLs listed in its 'items' array,\n",
    "    and saves all fetched JSON objects into a single new file as an array.\n",
    "\n",
    "    Args:\n",
    "        file_path (str): The path to the local JSON file.\n",
    "        output_file (str): The name of the output file to save all combined JSON.\n",
    "    \"\"\"\n",
    "    try:\n",
    "        # Step 1: Read the local JSON file\n",
    "        with open(file_path, 'r', encoding='utf-8') as f:\n",
    "            data = json.load(f)\n",
    "\n",
    "        # Step 2: Initialize a list to hold all the downloaded templates\n",
    "        all_templates = []\n",
    "        \n",
    "        # Step 3: Iterate through the 'items' and download each template\n",
    "        if \"items\" in data and isinstance(data[\"items\"], list):\n",
    "            for i, item in enumerate(data[\"items\"]):\n",
    "                if \"json\" in item and isinstance(item[\"json\"], str):\n",
    "                    template_url = item[\"json\"]\n",
    "                    \n",
    "                    try:\n",
    "                        # Fetch the template JSON\n",
    "                        template_response = requests.get(template_url)\n",
    "                        template_response.raise_for_status()\n",
    "                        template_data = template_response.json()\n",
    "                        \n",
    "                        # Add the downloaded JSON object to our list\n",
    "                        all_templates.append(template_data)\n",
    "                        print(f\"Successfully fetched template from {template_url}\")\n",
    "\n",
    "                    except requests.exceptions.RequestException as e:\n",
    "                        print(f\"Error fetching template from {template_url}: {e}\")\n",
    "                    except json.JSONDecodeError:\n",
    "                        print(f\"Error decoding JSON from {template_url}.\")\n",
    "\n",
    "        else:\n",
    "            print(\"The 'items' key was not found or is not a list in the main JSON.\")\n",
    "            return\n",
    "\n",
    "        # Step 4: Write the collected list of templates to a single JSON file\n",
    "        with open(output_file, \"w\", encoding=\"utf-8\") as out_f:\n",
    "            json.dump(all_templates, out_f, indent=2)\n",
    "        \n",
    "        print(f\"\\nAll templates have been combined and saved to '{output_file}'.\")\n",
    "            \n",
    "    except FileNotFoundError:\n",
    "        print(f\"Error: The file '{file_path}' was not found.\")\n",
    "    except json.JSONDecodeError:\n",
    "        print(f\"Error: The file '{file_path}' is not a valid JSON file.\")\n",
    "    except Exception as e:\n",
    "        print(f\"An unexpected error occurred: {e}\")"
   ]
  },
  {
   "cell_type": "code",
   "execution_count": 8,
   "id": "a0f18327",
   "metadata": {},
   "outputs": [
    {
     "name": "stdout",
     "output_type": "stream",
     "text": [
      "Successfully fetched template from https://api.polotno.com/templates/2021-06-11-facebook-cover-real-estate-realtor-house-interior.json\n",
      "Successfully fetched template from https://api.polotno.com/templates/2021-06-26-Facebook-post-real-estate--just-sold--just-listed--property--realtor--agent.json\n",
      "Successfully fetched template from https://api.polotno.com/templates/2021-07-11-facebook-ad-real-estate.json\n",
      "Successfully fetched template from https://api.polotno.com/templates/2021-07-03-instagram-post-realestate-soldout.json\n",
      "Successfully fetched template from https://api.polotno.com/templates/2021-06-07-instagram-story-real-estate.json\n",
      "Successfully fetched template from https://api.polotno.com/templates/2021-07-11-facebook-ad-realestate-house.json\n",
      "Successfully fetched template from https://api.polotno.com/templates/2021-08-01-facebook-post-real-estate.json\n",
      "Successfully fetched template from https://api.polotno.com/templates/2021-08-01-instagram-post-teal-realestate.json\n",
      "Successfully fetched template from https://api.polotno.com/templates/2021-06-30-youtube-thumbnail-realestate-agent.json\n",
      "Successfully fetched template from https://api.polotno.com/templates/2021-07-05-youtube-thumbnail-real-estate.json\n",
      "Successfully fetched template from https://api.polotno.com/templates/2021-06-21-facebook-property-realtor-real-estate-house-listed-sold.json\n",
      "Successfully fetched template from https://api.polotno.com/templates/2021-06-30-facebook-post-real-estate.json\n",
      "Successfully fetched template from https://api.polotno.com/templates/2021-06-30-youtube-thumbnail-real-estate-.json\n",
      "Successfully fetched template from https://api.polotno.com/templates/2021-05-31-facebook-cover-real-estate-sale.json\n",
      "Successfully fetched template from https://api.polotno.com/templates/2021-06-20-Linkedin-post-realtor-real-estate-house-housing-sold.json\n",
      "Successfully fetched template from https://api.polotno.com/templates/2021-10-16-hd-celebrate-holidays.json\n",
      "Successfully fetched template from https://api.polotno.com/templates/2021-07-010-Instagram-post-real-estate--house-home-rent-realtor.json\n",
      "\n",
      "All templates have been combined and saved to 'combined_templates.json'.\n"
     ]
    }
   ],
   "source": [
    "local_json_file = \"./real-estate-template.json\"\n",
    "extract_json_from_local_file(local_json_file)"
   ]
  },
  {
   "cell_type": "code",
   "execution_count": 17,
   "id": "7c291715",
   "metadata": {},
   "outputs": [
    {
     "name": "stdout",
     "output_type": "stream",
     "text": [
      "{'image': 24, 'svg': 102, 'text': 52}\n"
     ]
    }
   ],
   "source": [
    "import json\n",
    "\n",
    "def get_children_keys_by_type(file_path):\n",
    "    \"\"\"\n",
    "    Reads a JSON file, extracts all unique keys for each 'type' of object\n",
    "    within the 'children' array, and returns a dictionary.\n",
    "\n",
    "    Args:\n",
    "        file_path (str): The path to the JSON file.\n",
    "\n",
    "    Returns:\n",
    "        dict: A dictionary where keys are 'children.type' and values are\n",
    "              lists of unique field keys.\n",
    "    \"\"\"\n",
    "    try:\n",
    "        with open(file_path, 'r') as f:\n",
    "            data = json.load(f)\n",
    "    except FileNotFoundError:\n",
    "        return {\"error\": f\"The file at {file_path} was not found.\"}\n",
    "    except json.JSONDecodeError:\n",
    "        return {\"error\": f\"The file at {file_path} is not a valid JSON.\"}\n",
    "\n",
    "    children_keys = {}\n",
    "\n",
    "    counts = {}\n",
    "\n",
    "    for item in data:\n",
    "        if 'pages' in item and isinstance(item['pages'], list):\n",
    "            for page in item['pages']:\n",
    "                if 'children' in page and isinstance(page['children'], list):\n",
    "                    for child in page['children']:\n",
    "                        if 'type' in child:\n",
    "                            child_type = child['type']\n",
    "                            keys = list(child.keys())\n",
    "\n",
    "                            if(child['type'] in counts): \n",
    "                                counts[child['type']] += 1\n",
    "                            else:\n",
    "                                counts[child['type']] = 1\n",
    "\n",
    "\n",
    "                            if child_type not in children_keys:\n",
    "                                children_keys[child_type] = set()\n",
    "\n",
    "                            children_keys[child_type].update(keys)\n",
    "\n",
    "\n",
    "    print(counts)\n",
    "    # Convert sets to sorted lists for consistent output\n",
    "    for key in children_keys:\n",
    "        children_keys[key] = sorted(list(children_keys[key]))\n",
    "\n",
    "    return children_keys\n",
    "\n",
    "file_path = './combined_templates.json'\n",
    "result = get_children_keys_by_type(file_path)"
   ]
  },
  {
   "cell_type": "code",
   "execution_count": null,
   "id": "568195fc",
   "metadata": {},
   "outputs": [
    {
     "data": {
      "text/plain": [
       "{'image': ['blurEnabled',\n",
       "  'blurRadius',\n",
       "  'borderColor',\n",
       "  'borderSize',\n",
       "  'brightness',\n",
       "  'brightnessEnabled',\n",
       "  'clipSrc',\n",
       "  'cropHeight',\n",
       "  'cropWidth',\n",
       "  'cropX',\n",
       "  'cropY',\n",
       "  'flipX',\n",
       "  'flipY',\n",
       "  'grayscaleEnabled',\n",
       "  'height',\n",
       "  'id',\n",
       "  'locked',\n",
       "  'opacity',\n",
       "  'rotation',\n",
       "  'sepiaEnabled',\n",
       "  'shadowBlur',\n",
       "  'shadowColor',\n",
       "  'shadowEnabled',\n",
       "  'shadowOffsetX',\n",
       "  'shadowOffsetY',\n",
       "  'src',\n",
       "  'type',\n",
       "  'width',\n",
       "  'x',\n",
       "  'y'],\n",
       " 'svg': ['alwaysOnTop',\n",
       "  'blurEnabled',\n",
       "  'blurRadius',\n",
       "  'borderColor',\n",
       "  'borderSize',\n",
       "  'brightness',\n",
       "  'brightnessEnabled',\n",
       "  'colorsReplace',\n",
       "  'cropHeight',\n",
       "  'cropWidth',\n",
       "  'cropX',\n",
       "  'cropY',\n",
       "  'flipX',\n",
       "  'flipY',\n",
       "  'grayscaleEnabled',\n",
       "  'height',\n",
       "  'id',\n",
       "  'keepRatio',\n",
       "  'locked',\n",
       "  'maskSrc',\n",
       "  'opacity',\n",
       "  'rotation',\n",
       "  'selectable',\n",
       "  'sepiaEnabled',\n",
       "  'shadowBlur',\n",
       "  'shadowColor',\n",
       "  'shadowEnabled',\n",
       "  'shadowOffsetX',\n",
       "  'shadowOffsetY',\n",
       "  'showInExport',\n",
       "  'src',\n",
       "  'type',\n",
       "  'width',\n",
       "  'x',\n",
       "  'y'],\n",
       " 'text': ['align',\n",
       "  'alwaysOnTop',\n",
       "  'blurEnabled',\n",
       "  'blurRadius',\n",
       "  'brightness',\n",
       "  'brightnessEnabled',\n",
       "  'fill',\n",
       "  'fontFamily',\n",
       "  'fontSize',\n",
       "  'fontStyle',\n",
       "  'fontWeight',\n",
       "  'grayscaleEnabled',\n",
       "  'height',\n",
       "  'id',\n",
       "  'letterSpacing',\n",
       "  'lineHeight',\n",
       "  'locked',\n",
       "  'opacity',\n",
       "  'placeholder',\n",
       "  'rotation',\n",
       "  'selectable',\n",
       "  'sepiaEnabled',\n",
       "  'shadowBlur',\n",
       "  'shadowColor',\n",
       "  'shadowEnabled',\n",
       "  'shadowOffsetX',\n",
       "  'shadowOffsetY',\n",
       "  'showInExport',\n",
       "  'stroke',\n",
       "  'strokeWidth',\n",
       "  'text',\n",
       "  'textDecoration',\n",
       "  'type',\n",
       "  'width',\n",
       "  'x',\n",
       "  'y']}"
      ]
     },
     "execution_count": 16,
     "metadata": {},
     "output_type": "execute_result"
    }
   ],
   "source": [
    "\n",
    "# Example usage with your specified file path\n",
    "file_path = './combined_templates.json'\n",
    "result = get_children_keys_by_type(file_path)"
   ]
  },
  {
   "cell_type": "code",
   "execution_count": 14,
   "id": "9758c2c7",
   "metadata": {},
   "outputs": [
    {
     "name": "stdout",
     "output_type": "stream",
     "text": [
      "align, alwaysOnTop, blurEnabled, blurRadius, brightness, brightnessEnabled, fill, fontFamily, fontSize, fontStyle, fontWeight, grayscaleEnabled, height, id, letterSpacing, lineHeight, locked, opacity, placeholder, rotation, selectable, sepiaEnabled, shadowBlur, shadowColor, shadowEnabled, shadowOffsetX, shadowOffsetY, showInExport, stroke, strokeWidth, text, textDecoration, type, width, x, y\n"
     ]
    }
   ],
   "source": [
    "print(\", \".join(result['text']))"
   ]
  },
  {
   "cell_type": "code",
   "execution_count": 12,
   "id": "3f335793",
   "metadata": {},
   "outputs": [
    {
     "name": "stdout",
     "output_type": "stream",
     "text": [
      "alwaysOnTop, blurEnabled, blurRadius, borderColor, borderSize, brightness, brightnessEnabled, colorsReplace, cropHeight, cropWidth, cropX, cropY, flipX, flipY, grayscaleEnabled, height, id, keepRatio, locked, maskSrc, opacity, rotation, selectable, sepiaEnabled, shadowBlur, shadowColor, shadowEnabled, shadowOffsetX, shadowOffsetY, showInExport, src, type, width, x, y\n"
     ]
    }
   ],
   "source": [
    "print(\", \".join(result['svg']))"
   ]
  },
  {
   "cell_type": "code",
   "execution_count": 13,
   "id": "d69f2d7e",
   "metadata": {},
   "outputs": [
    {
     "name": "stdout",
     "output_type": "stream",
     "text": [
      "blurEnabled, blurRadius, borderColor, borderSize, brightness, brightnessEnabled, clipSrc, cropHeight, cropWidth, cropX, cropY, flipX, flipY, grayscaleEnabled, height, id, locked, opacity, rotation, sepiaEnabled, shadowBlur, shadowColor, shadowEnabled, shadowOffsetX, shadowOffsetY, src, type, width, x, y\n"
     ]
    }
   ],
   "source": [
    "print(\", \".join(result['image']))"
   ]
  },
  {
   "cell_type": "code",
   "execution_count": 11,
   "id": "58e07e4c",
   "metadata": {},
   "outputs": [
    {
     "data": {
      "text/plain": [
       "36"
      ]
     },
     "execution_count": 11,
     "metadata": {},
     "output_type": "execute_result"
    }
   ],
   "source": [
    "len(result['text'])"
   ]
  },
  {
   "cell_type": "code",
   "execution_count": 18,
   "id": "53fd50ab",
   "metadata": {},
   "outputs": [
    {
     "name": "stdout",
     "output_type": "stream",
     "text": [
      "\n",
      "{'#fed402': 'rgba(255,80,0,1)', '#26a6fe': 'rgba(80,227,194,1)', '#fac600': 'rgba(255,80,0,1)'}\n",
      "data:image/svg+xml;base64,PHN2ZyB4bWxucz0iaHR0cDovL3d3dy53My5vcmcvMjAwMC9zdmciIGRhdGEtbmFtZT0iTGF5ZXIgMSIgdmlld0JveD0iMCAwIDUxMiA1MTIiPjxwYXRoIGZpbGw9IiNmMWY2ZjkiIGQ9Ik0xNzkuMzUzNjMsNTA0LjVoMGEyMi4zNTI3MiwyMi4zNTI3MiwwLDAsMS0yMi4zNTI3Mi0yMi4zNTI3MmwwLTI0Mi4xNTQ2OGg0NC43MDU0OGwwLDI0Mi4xNTQ2OUEyMi4zNTI3MSwyMi4zNTI3MSwwLDAsMSwxNzkuMzUzNjMsNTA0LjVaIi8+PHBvbHlnb24gZmlsbD0iI2RkZThlZiIgcG9pbnRzPSIyMDEuNzA2IDI3Ni4yOSAyMDEuNzA2IDM5NC4yMyAxNTYuOTk2IDMxOC4zNCAxNTQuMzk2IDMxNC44IDE1Ni45OTYgMzEyLjY4IDIwMS43MDYgMjc2LjI5Ii8+PHBhdGggZmlsbD0iIzI2YTZmZSIgZD0iTTMwNy42ODk5NCwyNTIuODAwMDVBMTU2LjIyNzA2LDE1Ni4yMjcwNiwwLDEsMSwyMjguNDgsMTUuNDNzMC0uMDEuMDEwMjUsMGExNTYuMzQ5MDksMTU2LjM0OTA5LDAsMCwxLDc5LjE5OTcxLDIzNy4zNzAwNloiLz48cGF0aCBmaWxsPSIjZjFmNmY5IiBkPSJNMjU4LjY2MDE2LDE1OC43NDczMWExNTYuNDczNjIsMTU2LjQ3MzYyLDAsMCwwLTc5LjMwNjY0LDQuOTU5ODQsMTU1Ljc1OTQzLDE1NS43NTk0MywwLDAsMSw4NS43MDksMTMwLjY1MDI3LDE1Ni41NTAxOCwxNTYuNTUwMTgsMCwwLDAsNjcuMjU5MjgtOTguODI4NjFBMTU2LjY4OTY3LDE1Ni42ODk2NywwLDAsMCwyNTguNjYwMTYsMTU4Ljc0NzMxWiIvPjxwYXRoIGZpbGw9IiNmZWQ0MDIiIGQ9Ik05MC4zMTc4NyAyOTIuMDAwODVhMTU1Ljc2MTU5IDE1NS43NjE1OSAwIDAgMCA1Ny4yNzg4MSAyNC42NjA4OSAxNTUuNjM5NDEgMTU1LjYzOTQxIDAgMCAwIDMxLjc1Njg0LTE1Mi45NTQ1OUExNTUuNTkyNDEgMTU1LjU5MjQxIDAgMCAxIDQ4LjczOTc1IDI0OS4zNjA3MiAxNTUuODM0NjQgMTU1LjgzNDY0IDAgMCAwIDkwLjMxNzg3IDI5Mi4wMDA4NXpNMTE5Ljc0NDYzIDExMS4xMzQ4M2ExNTYuNjY1OCAxNTYuNjY1OCAwIDAgMS0yNi4xMDAxLTc4LjA3Nzc2IDE1Ni41NDYgMTU2LjU0NiAwIDAgMC02Ny4yNTg3OSA5OC44Mjg0OSAxNTUuNzEwNDYgMTU1LjcxMDQ2IDAgMCAwIDE1Mi45Njc3OCAzMS44MjE1OUExNTYuNTg2NDUgMTU2LjU4NjQ1IDAgMCAxIDExOS43NDQ2MyAxMTEuMTM0ODN6TTI2OC4zODkxNiAzNS40MTM0NWExNTUuNzYxNjggMTU1Ljc2MTY4IDAgMCAwLTU3LjI3ODgxLTI0LjY2MDg5IDE1NS42Mzk0NyAxNTUuNjM5NDcgMCAwIDAtMzEuNzU2ODMgMTUyLjk1NDU5IDE1NS41OTE4MSAxNTUuNTkxODEgMCAwIDEgMTMwLjYxMzc3LTg1LjY1MzVBMTU1LjgzNTg5IDE1NS44MzU4OSAwIDAgMCAyNjguMzg5MTYgMzUuNDEzNDV6Ii8+PHBhdGggZmlsbD0iI2YxZjZmOSIgZD0iTTI3MS4wODk4NCwxNjMuNzFhOTEuNzMzMyw5MS43MzMzLDAsMCwxLTkxLjczOTc0LDkxLjczYy0uOTkwMjQsMC0xLjk3MDIyLS4wMi0yLjk1MDItLjA0OTkzYTkxLjcyODc0LDkxLjcyODc0LDAsMCwxLS4wODAwOC0xODMuMzZxMS41MTUzOS0uMDYsMy4wMzAyOC0uMDZBOTEuNzM1NDgsOTEuNzM1NDgsMCwwLDEsMjcxLjA4OTg0LDE2My43MVoiLz48cGF0aCBmaWxsPSIjZjFmNmY5IiBkPSJNMTc2LjM5OTksMjU1LjM5YTkxLjcyODc0LDkxLjcyODc0LDAsMCwxLS4wODAwOC0xODMuMzZDMTQyLjM5MDE0LDEyOS44MSwxNDQuMDgwMDgsMjAwLjE0LDE3Ni4zOTk5LDI1NS4zOVoiLz48cGF0aCBmaWxsPSIjZGRlOGVmIiBkPSJNMjcxLjA4OTg0LDE2My43MWE5MS43MzMzLDkxLjczMzMsMCwwLDEtOTEuNzM5NzQsOTEuNzNjLS45OTAyNCwwLTEuOTcwMjItLjAyLTIuOTUwMi0uMDQ5OTMtMzIuMzE5ODItNTUuMjUtMzQuMDA5NzYtMTI1LjU4LS4wODAwOC0xODMuMzZxMS41MTUzOS0uMDYsMy4wMzAyOC0uMDZBOTEuNzM1NDgsOTEuNzM1NDgsMCwwLDEsMjcxLjA4OTg0LDE2My43MVoiLz48cGF0aCBmaWxsPSIjZmFjNjAwIiBkPSJNMzA5Ljk2OTczLDc4LjA1YTE1Ni44MTQsMTU2LjgxNCwwLDAsMC02Ny4xNTk2NywxOS40MSw5MS40MzU2NSw5MS40MzU2NSwwLDAsMC02My40Ni0yNS40OWMtLjY2MDE2LDAtMS4zMzAwOC4wMS0xLjk5MDI0LjAzLjMxMDA2LTEuMTIuNjQwMTQtMi4yMy45OC0zLjMycTIuNTk1LTQuMiw1LjQ0MDQzLTguMzJBMTgwLjkwMzcsMTgwLjkwMzcsMCwwLDEsMjI4LjQ4LDE1LjQzbC4yNy4wOWMxLjYwOTg2LjU0LDMuMjE5NzMsMS4xLDQuODMwMDgsMS43LjEzOTY1LjA1LjI3OTc4LjExLjQxOTkyLjE2cTIuMDg1MjEuNzc5OTQsNC4xNDAxNCwxLjYyYy40Mjk2OC4xOC44Njk2My4zNiwxLjI5OTguNTQsMS4yNzk3OS41MywyLjU2MDA2LDEuMDksMy44NDAzMywxLjY2bC43NS4zM2MxLjQ0OTcxLjY3LDIuODk5OTEsMS4zNiw0LjMzOTg1LDIuMDguNDYuMjIuOTEwMTUuNDUsMS4zNzAxMS42OCwxLjA4OTg1LjU2LDIuMTc5NjksMS4xMywzLjI1OTc3LDEuNzEuNDMwMTguMjMuODU5ODYuNDUsMS4yODAyNy42OHEyLjExNDUsMS4xNTUsNC4xOTk3MSwyLjM5Yy4zNzk4OC4yMi43NS40NiwxLjEyOTg4LjY4cTEuNjIwMTIuOTc0OTQsMy4yMSwxLjk4Yy40OC4zLjk1MDIuNjEsMS40MzAxOC45MSwxLjIxLjc5LDIuNDE5OTIsMS41OSwzLjYyMDEyLDIuNDIuMTY5OTIuMTIuMzQ5NjEuMjMuNTIuMzVxMi45NTQ1OCwyLjA1NSw1Ljc5LDQuMjNjLjE0OTkuMTEuMzEuMjMuNDYuMzUuNzU5NzYuNTgsMS41MDk3NiwxLjE4LDIuMjU5NzYsMS43Ny4yNjAyNi4yMi41NC40My44MDAzLjYzOTk1LjcxLjU3LDEuMzk5OSwxLjE1LDIuMDg5ODQsMS43My4yOS4yNS41ODk4NC40OS44OTAxNC43NC42Njk5Mi41OCwxLjMzOTg0LDEuMTYsMiwxLjc1LjI5OTguMjYuNjAwMDkuNTIuODg5NjQuNzguNjcwNDEuNTksMS4zMjAzMiwxLjE5LDEuOTcwMjIsMS44LjI3OTc4LjI2LjU2OTgyLjUxLjgzOTg0Ljc3LjY2MDE2LjYyLDEuMzEwMDYsMS4yNSwxLjk2LDEuODguMjYwMjYuMjUuNTIuNS43Ny43NS42NjAxNi42NSwxLjMxMDA2LDEuMzEsMS45NTAyLDEuOTYuMjM5NzQuMjQuNDcwMjEuNDguNjk5NzEuNzIuNjYwMTUuNjgsMS4zMDAyOSwxLjM2LDEuOTUwMTksMi4wNS4yMDAyLjIyLjQxMDE2LjQ0LjYyMDEyLjY3cS45NzQ4NSwxLjA2NDk0LDEuOTUwMTksMi4xNmMuMTY5OTMuMi4zNDk2MS40LjUyOTc5LjYuNjU5NjcuNzUsMS4zMTAwNiwxLjUwOTk1LDEuOTQ5NzEsMi4yNy4xNTAzOS4xOC4zMDAyOS4zNS40NTAxOS41My42NjAxNi43OSwxLjMxMDA2LDEuNTgsMS45NTAyLDIuMzguMTI5ODguMTYuMjUuMzEuMzcwMTEuNDdxLjk4OTUxLDEuMjMsMS45NDk3MSwyLjQ5Yy4xMDAxLjEzLjIwMDIuMjYuMjkuMzlxLjk5MDI0LDEuMjksMS45NDk3MSwyLjYxYy4wNzAzMS4xLjE0MDEzLjIuMjIwMjEuMzEuNjQ5OS45LDEuMzAwMjksMS44MSwxLjkzMDE4LDIuNzMuMDQ5OC4wNy4wOTk2MS4xNS4xNDk5LjIycS45NzQ4NSwxLjQxLDEuOTE5OTIsMi44NUMzMDkuOTUwMiw3OC4wMiwzMDkuOTYsNzguMDQsMzA5Ljk2OTczLDc4LjA1WiIvPjxwYXRoIGZpbGw9IiMwNTkzZmMiIGQ9Ik0zMDcuNjg5OTQsMjUyLjgwMDA1QTE1NS40MzA0LDE1NS40MzA0LDAsMCwxLDIyOC41NDk4LDMxMS45OGExODAuMzk2NTgsMTgwLjM5NjU4LDAsMCwxLTUyLjE0OTktNTYuNTljLjk4LjAyOTkxLDEuOTYuMDQ5OTMsMi45NTAyLjA0OTkzYTkxLjczMzMsOTEuNzMzMywwLDAsMCw5MS43Mzk3NC05MS43M1oiLz48cGF0aCBmaWxsPSIjZjFmNmY5IiBkPSJNMzU1LDIzOS45OVY0ODIuMTQ5OWEyMi4zNTUsMjIuMzU1LDAsMCwxLTQ0LjcxLDBWMjM5Ljk5WiIvPjxwb2x5Z29uIGZpbGw9IiNkZGU4ZWYiIHBvaW50cz0iMzU1IDI3Ni4yOSAzNTUgMzk0LjIzIDMxMC4yOSAzMTguMzQgMzA3LjY5IDMxNC44IDMxMC4yOSAzMTIuNjggMzU1IDI3Ni4yOSIvPjxlbGxpcHNlIGN4PSIzMzIuNjQ2IiBjeT0iMTYzLjcwNyIgZmlsbD0iI2ZlZDQwMiIgcng9IjE1Ni4xNiIgcnk9IjE1Ni4yMjYiIHRyYW5zZm9ybT0icm90YXRlKC00NSAzMzIuNjQ2IDE2My43MDcpIi8+PHBhdGggZmlsbD0iI2ZhYzYwMCIgZD0iTTQyMS42ODIxMywzNS40MTM0NWExNTcuMDUxNTYsMTU3LjA1MTU2LDAsMCwwLTI2LjIyODUyLTE0LjcwNzdBMTU2LjE3MzUxLDE1Ni4xNzM1MSwwLDAsMSwyMjQuODM5MzYsMjc2LjcwODVhMTU2LjE3NDIxLDE1Ni4xNzQyMSwwLDEsMCwxOTYuODQyNzctMjQxLjI5NVoiLz48cGF0aCBmaWxsPSIjMjZhNmZlIiBkPSJNMzAwLjg4OTY1LDMxNi42NjE3NGExNTYuNjgzOTIsMTU2LjY4MzkyLDAsMCwwLDExNy40NjU4Mi0yMi4zMDQ1NiwxNTUuNzU5NDYsMTU1Ljc1OTQ2LDAsMCwwLTg1LjcwOS0xMzAuNjUsMTU1LjYzOTM4LDE1NS42MzkzOCwwLDAsMS0zMS43NTY4MywxNTIuOTU0NTlaIi8+PHBhdGggZmlsbD0iIzA1OTNmYyIgZD0iTTMyMi4yNzEsMjg2LjAxODMxYTE1Ni42MDQxLDE1Ni42MDQxLDAsMCwxLTIxLjM4MTM1LDMwLjY0MzQzcTEuODgxNTkuMzkwNTcsMy43Njg1NS43MzM0Yy4wODQuMDE1MjYuMTY3NDguMDI4MDguMjUxNDcuMDQzMDlxMS43NjIyLjMxNzY4LDMuNTI3ODMuNTk2Yy4xNDI1OC4wMjIyMi4yODUxNi4wNDA3Ny40Mjc3My4wNjI3NHExLjY3OTQ1LjI1ODE4LDMuMzYxODIuNDgyM2MuMTgyNjIuMDI0LjM2NTI0LjA0MzU4LjU0Nzg1LjA2NjksMS4wODIuMTM4MywyLjE2NS4yNjg5MiwzLjI0ODU0LjM4NDQuMjExOTEuMDIyNy40MjQzMS4wNDAyOC42MzYyMy4wNjIsMS4wNTU2Ni4xMDgxNSwyLjExMTgxLjIwOTQ3LDMuMTY4LjI5NTkuMjMxLjAxODguNDYxNDIuMDMyNzEuNjkyMzguMDUwNTMsMS4wMzcxMS4wODAzMywyLjA3NDcxLjE1NDE4LDMuMTEyMy4yMTM2My4yNDgwNS4wMTQxNi40OTY1OS4wMjMzMS43NDQ2My4wMzYzNywxLjAyMi4wNTM3MiwyLjA0NDQ0LjEwMTMyLDMuMDY2NDEuMTM0NzcuMjU1ODYuMDA4NTUuNTExNzIuMDEyLjc2NzA5LjAxOSwxLjAxNDE2LjAyODMyLDIuMDI4MzIuMDUwNjYsMy4wNDI0OC4wNTkyMS4yNjI2OS4wMDIzMi41MjUzOS0uMDAwMjUuNzg4MDkuMDAwNjEsMS4wMDczMi4wMDM0MiwyLjAxNDY0LjAwMSwzLjAyMS0uMDE1MTQuMjY1MTQtLjAwNDE1LjUzMDI4LS4wMTI5NC43OTU0MS0uMDE4NDMsMS4wMDQ4OC0uMDIxMTIsMi4wMDkyOC0uMDQ4MzQsMy4wMTMxOS0uMDg4NzUuMjYzMTgtLjAxMDYyLjUyNjM2LS4wMjUzOS43OS0uMDM3MzUsMS4wMDQ0LS4wNDU0MSwyLjAwODMxLS4wOTc0MSwzLjAxMDc1LS4xNjIxMS4yNjE3Mi0uMDE2ODUuNTIzNDMtLjAzNzYuNzg1MTUtLjA1NTkxLDEuMDA1ODYtLjA3MDA3LDIuMDExNzItLjE0NjczLDMuMDE1NjMtLjIzNjA4LjI1MzQyLS4wMjI1OC41MDYzNS0uMDQ4NTkuNzU5MjgtLjA3MjM5cTEuNTE2ODQtLjE0MjQ1LDMuMDMwNzYtLjMxMTY0Yy4yNDU2LS4wMjc4NC40OTEyMS0uMDU5LjczNjgxLS4wODhxMS41MjQ5LS4xODAzNiwzLjA0NDkzLS4zODgwNmMuMjM2MzItLjAzMjcxLjQ3MTY3LS4wNjguNzA3NTEtLjEwMTY4cTEuNTMzLS4yMTg4MiwzLjA2MDU1LS40NjU5NWMuMjI3NTQtLjAzNy40NTQ1OS0uMDc2NDEuNjgxNjQtLjExNDVxMS41Mzk1NS0uMjU3ODEsMy4wNzM3My0uNTQ0NTVjLjIxNzI5LS4wNDA5LjQzNDA4LS4wODM3NC42NTA4OC0uMTI1MzdxMS41NDc2MS0uMjk3OTIsMy4wODk4NS0uNjI1MTJjLjIwNTU2LS4wNDM4My40MTA2NC0uMDg5NDguNjE2MjEtLjEzNDE2cTEuNTU4NTktLjMzODkzLDMuMTEwODQtLjcwODI1Yy4xOTA5MS0uMDQ1NjUuMzgxODMtLjA5Mjc3LjU3MzI0LS4xMzkxNnExLjU3MDMtLjM4MTQsMy4xMzMzLS43OTQxOWMuMTc3MjUtLjA0Njg3LjM1NDQ5LS4wOTUuNTMxNzQtLjE0MjQ1cTEuNTgyLS40MjUsMy4xNTYyNS0uODgyMjFjLjE2MjExLS4wNDcxMi4zMjQyMi0uMDk1MDkuNDg1ODQtLjE0MjgycTEuNTkxNTQtLjQ2ODc1LDMuMTc0MzEtLjk3MS4yMjU1OS0uMDcxNi40NTExOC0uMTQ0MjgsMS41OTgxNC0uNTEzMjYsMy4xODctMS4wNjA1NS4yMDUwOC0uMDcwNS40MDkxOC0uMTQxODUsMS42MDkxMy0uNTU5NzYsMy4yMDYwNS0xLjE1NDQyLjE4MDkyLS4wNjcxOC4zNjA4NC0uMTM0ODgsMS42MTkzOS0uNjA3NTUsMy4yMjUxLTEuMjUxMjIuMTU4MjEtLjA2My4zMTU0My0uMTI2NDcsMS42MjY3MS0uNjU1ODgsMy4yMzkyNi0xLjM0ODc1LjEzNjIzLS4wNTg2MS4yNzI0Ni0uMTE3MTksMS42MzI1Ny0uNzA0NzcsMy4yNDk1MS0xLjQ0NzYzYy4wNzcxNS0uMDM1MjguMTUzODEtLjA3MDMyLjIzMDQ3LS4xMDU3MnExLjYzODQyLS43NTU0OSwzLjI2MDI1LTEuNTQ5NTZjLjA2MTUzLS4wMy4xMjM1NC0uMDU5OTMuMTg1MDYtLjA5MDIxcTEuNjQxMzYtLjgwNjIsMy4yNjUxNC0xLjY1MTczYy4wNDkzMS0uMDI1NjMuMDk4NjMtLjA1MS4xNDgtLjA3Njc4cTEuNjQ0MjgtLjg1ODQsMy4yNzA1LTEuNzU3MmMuMDMzNy0uMDE4OC4wNjc4OC0uMDM3MjQuMTAxNTctLjA1NnExLjY0NTc0LS45MTEzMiwzLjI3Mi0xLjg2MzlsLjA2NTQzLS4wMzgwOHExLjY0MjEtLjk2MzE0LDMuMjYzMTgtMS45NjhsLjAzNDY3LS4wMjEyNHExLjYzNzctMS4wMTU4OCwzLjI1MzQyLTIuMDc0NDZhMTU3LjE5MjE2LDE1Ny4xOTIxNiwwLDAsMC0xNC4xMDc0Mi01Ni42NjYyNkExNTUuNTAwNDYsMTU1LjUwMDQ2LDAsMCwxLDMyMi4yNzEsMjg2LjAxODMxWiIvPjxwYXRoIGZpbGw9IiMyNmE2ZmUiIGQ9Ik0yNTMuMzM5ODQsMTY4LjY2NzExYTE1Ni42OTAwNywxNTYuNjkwMDcsMCwwLDEtNzMuNjYxNjItMzYuNzgxNjcsMTU2Ljc1NjUxLDE1Ni43NTY1MSwwLDAsMCwyMi4zNTQ0OSwxMTcuNDc1MjgsMTU1LjU5MjM4LDE1NS41OTIzOCwwLDAsMCwxMzAuNjEzNzctODUuNjUzNTdBMTU2LjQ3MywxNTYuNDczLDAsMCwxLDI1My4zMzk4NCwxNjguNjY3MTFaIi8+PHBhdGggZmlsbD0iIzI2YTZmZSIgZD0iTTM2NC40MDMzMiwxMC43NTI1NkExNTYuNjg0NjUsMTU2LjY4NDY1LDAsMCwwLDI0Ni45Mzc1LDMzLjA1N2ExNTYuNjY2NDcsMTU2LjY2NjQ3LDAsMCwwLDI2LjEwMDEsNzguMDc3ODgsMTU2LjU3OTQ2LDE1Ni41Nzk0NiwwLDAsMCw1OS42MDg4OCw1Mi41NzIzMkExNTUuNjM5NSwxNTUuNjM5NSwwLDAsMSwzNjQuNDAzMzIsMTAuNzUyNTZaIi8+PHBhdGggZmlsbD0iIzI2YTZmZSIgZD0iTTQ2My4yNjAyNSw3OC4wNTM2NWExNTUuNTkxODQsMTU1LjU5MTg0LDAsMCwwLTEzMC42MTM3Nyw4NS42NTM1LDE1NS43MTEsMTU1LjcxMSwwLDAsMSwxNTIuOTY3NzgsMzEuODIxNjZBMTU2Ljc1MzcyLDE1Ni43NTM3MiwwLDAsMCw0NjMuMjYwMjUsNzguMDUzNjVaIi8+PHBhdGggZmlsbD0iIzA1OTNmYyIgZD0iTTQ4OC44MjU2OCwxNjEuMzQ5MzdjLS4wMDQzOS0uMjU0MTYtLjAxMjY5LS41MDgxOC0uMDE4MDYtLjc2MjMzLS4wMjE0OS0xLjAxNTUxLS4wNDk4MS0yLjAzMDY0LS4wOTA4Mi0zLjA0NTA1LS4wMTA3NS0uMjU0MTUtLjAyNDkxLS41MDc4MS0uMDM2NjItLjc2MTcyLS4wNDYzOS0xLjAxNDQtLjA5OTEzLTIuMDI4MzItLjE2NS0zLjA0MS0uMDE2MTItLjI1Mi0uMDM2NjItLjUwMzY2LS4wNTQyLS43NTU1cS0uMTA2Mi0xLjUyMjUxLS4yMzkyNi0zLjA0MjcyYy0uMDIyLS4yNDYtLjA0NzM2LS40OTE1OC0uMDcwOC0uNzM3NTUtLjA5NjE5LTEuMDE5MTYtLjE5OTIyLTIuMDM3NDctLjMxNTQzLTMuMDU0Mi0uMDI2ODYtLjIzNzY3LS4wNTcxMy0uNDc1LS4wODUtLjcxMjUycS0uMTgyMzctMS41MzYyNi0uMzkyNTgtMy4wNjg3M2MtLjAzMTc0LS4yMjg4OC0uMDY1OTItLjQ1NzQtLjA5OTEyLS42ODYxNnEtLjIyMDQ1LTEuNTQ0MzEtLjQ3MDctMy4wODQxNmMtLjAzNTY1LS4yMTg4MS0uMDczNzMtLjQzNzI2LS4xMTAzNi0uNjU2cS0uMjYwNzMtMS41NTI2My0uNTUwMjktMy4xMDAxYy0uMDM5NTUtLjIwODM3LS4wODA1Ni0uNDE2MzgtLjEyMDYtLjYyNDYzcS0uMzAxNzctMS41NjIxNi0uNjMyMzMtMy4xMTgyOWMtLjA0Mi0uMTk2LS4wODU0NS0uMzkxNzItLjEyNzkzLS41ODc2NHEtLjM0Mjc2LTEuNTcxNTEtLjcxNTgyLTMuMTM2MjNjLS4wNDM5NC0uMTg0NTEtLjA4OTM1LS4zNjg2NS0uMTM0MjgtLjU1M3EtLjM4NDUxLTEuNTgxLS44MDA3OC0zLjE1NDQ4Yy0uMDQ1NDEtLjE3MDktLjA5MTc5LS4zNDE2Mi0uMTM3NjktLjUxMjM5cS0uNDI3LTEuNTkwMzYtLjg4NzctMy4xNzIzLS4wNjg4NS0uMjM3NTgtLjEzOTY1LS40NzQ3NC0uNDcxNjctMS41OTk4Ny0uOTc3LTMuMTkwNDlsLS4xMzc2OS0uNDMwMjNxLS41MTc4My0xLjYwOTUtMS4wNjg4NS0zLjIwODU2Yy0uMDQ0OTItLjEyOTgyLS4wOTAzMy0uMjU5NTItLjEzNTI1LS4zODkyMnEtLjU2NC0xLjYxOTI5LTEuMTYzMDktMy4yMjczNmwtLjEyNzQ0LS4zNDA3cS0uNjExNTgtMS42Mjc4LTEuMjU5NzctMy4yNDMxNi0uMDYwMDYtLjE1MDQyLS4xMjA2LS4zMDA4NC0uNjU5MTktMS42MzM5NS0xLjM1Ni0zLjI1NDI3bC0uMTExMzMtLjI1ODEycS0uNzA4MjYtMS42Mzk0NC0xLjQ1NTA4LTMuMjY0MzUtLjA0OTgtLjEwODg2LS4xMDAwOS0uMjE3NjUtLjc1ODc5LTEuNjQ1LTEuNTU3MTMtMy4yNzRjLS4wMjc4My0uMDU3MTktLjA1NTY3LS4xMTQ1Ny0uMDg0LS4xNzE3NnEtLjgwOTMyLTEuNjQ4LTEuNjU5NjYtMy4yNzg4N2wtLjA3MDMyLS4xMzU4cS0uODYxMzMtMS42NDkxNS0xLjc2MzE4LTMuMjhsLS4wNTI3My0uMDk1NHEtLjkxMzMzLTEuNjQ4MzEtMS44Njc2OC0zLjI3N2wtLjAzNjEzLS4wNjIxM3EtLjk2NTM0LTEuNjQ0NzUtMS45NzIxNy0zLjI2ODYxbC0uMDE4MDctLjAyOTQycS0xLjAxNzMzLTEuNjM5LTIuMDc2NjYtMy4yNTU4bC0uMDAwNDktLjAwMDQ5YTE1NS45ODczMywxNTUuOTg3MzMsMCwwLDAtMjguMTY2LDQuMTg3LDE1Ni43MDk4MSwxNTYuNzA5ODEsMCwwLDEsNS4xNTI4Myw4NC45OTE4OCwxNTcuMjgwMzIsMTU3LjI4MDMyLDAsMCwxLDQ1LjM2NzE5LDI4LjI5NjI3cS4zOTAzOC0xLjg4NTYyLjczMzQtMy43NzdjLjAxMDc0LS4wNTguMDE5NTMtLjExNjA5LjAyOTc4LS4xNzRxLjMyNDQ3LTEuODAxLjYwNzkxLTMuNjA2MmMuMDE4MDctLjExNzQzLjAzMzItLjIzNTExLjA1MTI3LS4zNTI2NnEuMjY0NC0xLjcxNjYxLjQ5MTctMy40MzU3OWMuMDIxLS4xNjE4Ny4wMzg1Ny0uMzI0LjA1OTA4LS40ODYuMTQxMTItMS4xMDMuMjczNDQtMi4yMDY1NS4zOTA2My0zLjMxMS4wMi0uMTkyODcuMDM2MTMtLjM4Ni4wNTYxNS0uNTc4ODYuMTA5MzctMS4wNzM3My4yMTE5MS0yLjE0NzcuMjk5MzItMy4yMjIxNi4wMTgwNi0uMjE4MTQuMDMwNzYtLjQzNjQxLjA0Nzg1LS42NTQ1NS4wODA1Ni0xLjA1MDUzLjE1NTI3LTIuMTAxMDcuMjE0ODQtMy4xNTE4NS4wMTMxOS0uMjM0MTMuMDIyLS40NjgxNC4wMzM2OS0uNzAyMTUuMDU0Mi0xLjAzNi4xMDItMi4wNzIuMTM1NzQtMy4xMDc5MS4wMDc4Mi0uMjQzOS4wMTEyNC0uNDg3NzkuMDE3NTgtLjczMTY5LjAyODMyLTEuMDI2NjEuMDUwNzgtMi4wNTMyMi4wNTg2LTMuMDc5NDcuMDAyLS4yNDkzOS0uMDAwNDktLjQ5ODc4LjAwMDQ5LS43NDgxN0M0ODguODQ1MjEsMTYzLjM4OSw0ODguODQyMjksMTYyLjM2ODksNDg4LjgyNTY4LDE2MS4zNDkzN1oiLz48Y2lyY2xlIGN4PSIzMzIuNjQ2IiBjeT0iMTYzLjcwNyIgcj0iMzcuMzI0IiBmaWxsPSIjZjFmNmY5Ii8+PHBhdGggZmlsbD0iI2RkZThlZiIgZD0iTTM1MC40NTU1NywxMzAuODk4MDdhMzcuMzM1MzksMzcuMzM1MzksMCwwLDEtNTAuNjE4MTcsNTAuNjE4MTcsMzcuMzI5LDM3LjMyOSwwLDEsMCw1MC42MTgxNy01MC42MTgxN1oiLz48L3N2Zz4=\n",
      "\n",
      "\n",
      "\n",
      "\n",
      "{'rgb(253, 4, 55)': 'rgba(255,80,0,1)', 'rgb(255, 0, 0)': 'rgba(80,227,194,1)', 'rgb(216, 215, 220)': 'rgba(80,227,194,1)'}\n",
      "data:image/svg+xml;base64,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\n",
      "\n",
      "\n",
      "\n",
      "\n",
      "{'#ff5c5f': 'rgba(255,80,0,1)', '#f54a40': 'rgba(255,80,0,1)'}\n",
      "data:image/svg+xml;base64,PHN2ZyB4bWxucz0iaHR0cDovL3d3dy53My5vcmcvMjAwMC9zdmciIGlkPSJMYXllcl8xIiBlbmFibGUtYmFja2dyb3VuZD0ibmV3IDAgMCA2NCA2NCIgdmlld0JveD0iMCAwIDY0IDY0Ij48cGF0aCBmaWxsPSIjZjdmN2Y3IiBkPSJNNi40LDQ3LjljLTIuMSwwLTMuOCwxLjctMy44LDMuOHY4LjVjMCwyLjEsMS43LDMuOCwzLjgsMy44SDMyVjQ3LjlINi40eiIvPjxwYXRoIGZpbGw9IiNjZWQ0ZTAiIGQ9Ik01Ny42LDQ3LjlIMzJWNjRoMjUuNmMyLjEsMCwzLjgtMS43LDMuOC0zLjh2LTguNUM2MS40LDQ5LjYsNTkuNyw0Ny45LDU3LjYsNDcuOXoiLz48cGF0aCBmaWxsPSIjZmY1YzVmIiBkPSJNNi45LDU2SDMyVjcuNEMxNy45LDIyLjYsOS41LDM4LjgsNi45LDU2eiIvPjxwYXRoIGZpbGw9IiNjZjJmMzEiIGQ9Ik0zMiw3LjRDMzIsNy40LDMyLDcuNCwzMiw3LjRMMzIsNTZoMjUuMUM1NC41LDM4LjgsNDYuMSwyMi42LDMyLDcuNHoiLz48Zz48cGF0aCBmaWxsPSIjZjU0YTQwIiBkPSJNNTQuNCw1Nkg5LjZDMTEuOSwzOC44LDE5LjQsMjIuNiwzMiw3LjRDNDQuNiwyMi42LDUyLjEsMzguOCw1NC40LDU2eiIvPjxwYXRoIGZpbGw9IiNlNWVhZWIiIGQ9Ik01Ni4yLDY0SDcuOGMtMS4xLDAtMi0wLjktMi0yVjQ5LjljMC0xLjEsMC45LTIsMi0yaDQ4LjRjMS4xLDAsMiwwLjksMiwyVjYyQzU4LjIsNjMuMSw1Ny4zLDY0LDU2LjIsNjR6Ii8+PGVsbGlwc2UgY3g9IjMyIiBjeT0iNy40IiBmaWxsPSIjZTRlY2VlIiByeD0iNy40IiByeT0iNy40IiB0cmFuc2Zvcm09InJvdGF0ZSgtNzcuMjAzIDMxLjk5OCA3LjQwMikiLz48L2c+PC9zdmc+\n",
      "\n",
      "\n",
      "\n",
      "\n",
      "{'#bad84e': 'rgba(80,227,194,1)', '#b3ce3e': 'rgba(80,227,194,1)', '#f7c94b': 'rgba(255,255,255,1)', '#f4f4f4': 'rgba(255,80,0,1)'}\n",
      "data:image/svg+xml;base64,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\n",
      "\n",
      "\n",
      "\n",
      "\n",
      "{'#e2887d': 'rgba(255,80,0,1)', '#b3ce3e': 'rgba(80,227,194,1)', '#bad84e': 'rgba(80,227,194,1)'}\n",
      "data:image/svg+xml;base64,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\n",
      "\n",
      "\n",
      "\n"
     ]
    }
   ],
   "source": [
    "file_path = './combined_templates.json'\n",
    "\n",
    "\n",
    "try:\n",
    "    with open(file_path, 'r') as f:\n",
    "        data = json.load(f)\n",
    "except FileNotFoundError:\n",
    "    data = []\n",
    "except json.JSONDecodeError:\n",
    "    data = []\n",
    "\n",
    "children_keys = {}\n",
    "\n",
    "counts = {}\n",
    "\n",
    "for item in data:\n",
    "    if 'pages' in item and isinstance(item['pages'], list):\n",
    "        for page in item['pages']:\n",
    "            if 'children' in page and isinstance(page['children'], list):\n",
    "                for child in page['children']:\n",
    "                    if 'type' in child and child['type'] == 'svg':\n",
    "                        if isinstance(child['colorsReplace'], dict) and len(child['colorsReplace'].keys()) > 1:\n",
    "                            print()\n",
    "                            print(child['colorsReplace'])\n",
    "                            print(child['src'])\n",
    "                            print('\\n\\n')"
   ]
  },
  {
   "cell_type": "code",
   "execution_count": 4,
   "id": "786c58d4",
   "metadata": {},
   "outputs": [],
   "source": [
    "the_str = \"data:image/svg+xml;base64,\""
   ]
  },
  {
   "cell_type": "code",
   "execution_count": 5,
   "id": "a8f2c2f6",
   "metadata": {},
   "outputs": [
    {
     "data": {
      "text/plain": [
       "26"
      ]
     },
     "execution_count": 5,
     "metadata": {},
     "output_type": "execute_result"
    }
   ],
   "source": [
    "len(the_str)"
   ]
  },
  {
   "cell_type": "code",
   "execution_count": null,
   "id": "a5232910",
   "metadata": {},
   "outputs": [],
   "source": []
  }
 ],
 "metadata": {
  "kernelspec": {
   "display_name": "env13",
   "language": "python",
   "name": "python3"
  },
  "language_info": {
   "codemirror_mode": {
    "name": "ipython",
    "version": 3
   },
   "file_extension": ".py",
   "mimetype": "text/x-python",
   "name": "python",
   "nbconvert_exporter": "python",
   "pygments_lexer": "ipython3",
   "version": "3.13.5"
  }
 },
 "nbformat": 4,
 "nbformat_minor": 5
}
